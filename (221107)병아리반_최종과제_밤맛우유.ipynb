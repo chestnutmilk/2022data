{
  "nbformat": 4,
  "nbformat_minor": 0,
  "metadata": {
    "colab": {
      "provenance": [],
      "collapsed_sections": [],
      "authorship_tag": "ABX9TyPfJ90cQ1SCiDARYUH5Qsp7",
      "include_colab_link": true
    },
    "kernelspec": {
      "name": "python3",
      "display_name": "Python 3"
    },
    "language_info": {
      "name": "python"
    }
  },
  "cells": [
    {
      "cell_type": "markdown",
      "metadata": {
        "id": "view-in-github",
        "colab_type": "text"
      },
      "source": [
        "<a href=\"https://colab.research.google.com/github/chestnutmilk/2022data/blob/main/(221107)%EB%B3%91%EC%95%84%EB%A6%AC%EB%B0%98_%EC%B5%9C%EC%A2%85%EA%B3%BC%EC%A0%9C_%EB%B0%A4%EB%A7%9B%EC%9A%B0%EC%9C%A0.ipynb\" target=\"_parent\"><img src=\"https://colab.research.google.com/assets/colab-badge.svg\" alt=\"Open In Colab\"/></a>"
      ]
    },
    {
      "cell_type": "markdown",
      "source": [
        "#병아리반 최종 과제: 11월 급식메뉴 중 알레르기 인자를 찾아내, 알레르기가 있는 학생에게 경고해주는 프로그램 작성\n",
        "\n",
        "# 입력\n",
        "##1. 11월 급식 메뉴 데이터 저장\n",
        "###1-1) 나이스 교육정보 포털 <급식식단정보> - github 저장 후 불러오기\n",
        "###1-2) 반 학생들 임의 정보데이터(딕셔너리) 만들기\n",
        "\n",
        "# 처리\n",
        "##1. 오늘 날짜를 가져올 수 있는 함수 가져오기\n",
        "\n",
        "##2. 날짜에 맞는 메뉴 가져오기\n",
        "###2-1)데이터를 리스트에 저장\n",
        "###2-2)불필요한 문자 제거\n",
        "###2-3)메뉴(한글)과 알레르기 정보(숫자) 나누어 저장 \n",
        "\n",
        "##3. 학생에게 알레르기를 일으킬 재료 확인\n",
        "###3-1) 편의를 위해 임의로 딕셔너리에 문자열로 저장\n",
        "\n",
        "##4. 메뉴에서 알레르기를 뽑아, 학생과 연결\n",
        "###4-1) 메뉴를 음식별로 리스트 나누기, 요소 중에서 알레르기 정보(문자열로 저장된 숫자)를 뽑기\n",
        " \n",
        "#출력\n",
        "##1. 메뉴와 학생의 알레르기가 일치하면 학생 이름과 메뉴 출력\n",
        "###1-1) 학생 딕셔너리의 value(알레르기 정보) 와 메뉴의 알레르기 정보 숫자가 같으면, 딕셔너리의 key값 출력\n",
        "\n",
        "# 고려사항\n",
        "#1) 다양한 도움과 구글링으로 정확한 원리를 이해하지 못함\n",
        "#2) 출력 1-1의 경우, 한 학생의 정보만 뽑히거나, 한 가지 음식만 확인 후 멈추는 경우 발생했음.\n",
        "\n",
        "##보너스\n",
        "# 학생들의 알레르기 정보를 직접 문자열로 출력하는 부분 추가(ing)"
      ],
      "metadata": {
        "id": "NOKE3Ph3O5Dm"
      }
    },
    {
      "cell_type": "code",
      "source": [
        "from google.colab import drive\n",
        "drive.mount('/content/drive')"
      ],
      "metadata": {
        "colab": {
          "base_uri": "https://localhost:8080/"
        },
        "id": "2olrkzZkY4Oj",
        "outputId": "75349dc3-b1c4-4f3e-d1f6-a30017384817"
      },
      "execution_count": null,
      "outputs": [
        {
          "output_type": "stream",
          "name": "stdout",
          "text": [
            "Mounted at /content/drive\n"
          ]
        }
      ]
    },
    {
      "cell_type": "code",
      "source": [
        "!git clone https://github.com/chestnutmilk/2022data.git"
      ],
      "metadata": {
        "id": "wufxjWm2Z56u",
        "colab": {
          "base_uri": "https://localhost:8080/"
        },
        "outputId": "1d87bc6f-7b97-4049-af59-b67eebb16cde"
      },
      "execution_count": 1,
      "outputs": [
        {
          "output_type": "stream",
          "name": "stdout",
          "text": [
            "Cloning into '2022data'...\n",
            "remote: Enumerating objects: 18, done.\u001b[K\n",
            "remote: Counting objects: 100% (18/18), done.\u001b[K\n",
            "remote: Compressing objects: 100% (16/16), done.\u001b[K\n",
            "remote: Total 18 (delta 5), reused 0 (delta 0), pack-reused 0\u001b[K\n",
            "Unpacking objects: 100% (18/18), done.\n"
          ]
        }
      ]
    },
    {
      "cell_type": "code",
      "source": [
        "ls"
      ],
      "metadata": {
        "colab": {
          "base_uri": "https://localhost:8080/"
        },
        "id": "sTcfaox7VHW5",
        "outputId": "9665b19a-234b-4d5d-b287-ef99c2d3f2c0"
      },
      "execution_count": 2,
      "outputs": [
        {
          "output_type": "stream",
          "name": "stdout",
          "text": [
            "\u001b[0m\u001b[01;34m2022data\u001b[0m/  \u001b[01;34msample_data\u001b[0m/\n"
          ]
        }
      ]
    },
    {
      "cell_type": "code",
      "source": [
        "cd 2022data"
      ],
      "metadata": {
        "colab": {
          "base_uri": "https://localhost:8080/"
        },
        "id": "Y0iqI2_1aYOM",
        "outputId": "73199b5d-1a71-4cc4-b4d8-1e18eb37eaed"
      },
      "execution_count": 3,
      "outputs": [
        {
          "output_type": "stream",
          "name": "stdout",
          "text": [
            "/content/2022data\n"
          ]
        }
      ]
    },
    {
      "cell_type": "code",
      "execution_count": 33,
      "metadata": {
        "colab": {
          "base_uri": "https://localhost:8080/",
          "height": 137
        },
        "id": "EbHrrkQgOszc",
        "outputId": "f6be478d-2a2b-4ba9-f450-2da8f9f62161"
      },
      "outputs": [
        {
          "output_type": "error",
          "ename": "IndentationError",
          "evalue": "ignored",
          "traceback": [
            "\u001b[0;36m  File \u001b[0;32m\"<tokenize>\"\u001b[0;36m, line \u001b[0;32m56\u001b[0m\n\u001b[0;31m    if name in allergy :\u001b[0m\n\u001b[0m    ^\u001b[0m\n\u001b[0;31mIndentationError\u001b[0m\u001b[0;31m:\u001b[0m unindent does not match any outer indentation level\n"
          ]
        }
      ],
      "source": [
        "#과제 제출용\n",
        "#입력\n",
        "import datetime\n",
        "import csv\n",
        "import re\n",
        "import requests\n",
        "from datetime import timedelta\n",
        "data = csv.reader(open('menu.csv'))\n",
        "next(data)\n",
        "\n",
        "menu = []\n",
        "allergy = {'데이비드': '1', '루시': '2', '글로리아': '3', '리퍼닥': '4', '메인': '5', '도리오': '6', '키위': '7', '필라': '8', '레베카': '9', '팔코': '10', '홀리오': '11', '사샤': '12', '패러데이': '13', '오카다': '14'}\n",
        "\n",
        "#처리\n",
        "#오늘 날짜 취득 함수\n",
        "today = datetime.date.today()\n",
        "today2 = today + timedelta(days=1) #주말시 +,=로 날짜변경\n",
        "today = today.strftime('%Y%m%d') # 하이픈 없애는 작업\n",
        "today2 = today2.strftime('%Y%m%d')\n",
        "\n",
        "print(today)\n",
        "\n",
        "#data의 날짜와 메뉴를 리스트에 넣기\n",
        "for row in data :\n",
        "  if today == row[6] :\n",
        "    menu = row[8]\n",
        "    menu = menu.split('>')#리스트를 음식별로 나누기\n",
        "    search = '<br/'\n",
        "    menu = [word.strip(search) for word in menu] #<br/제거\n",
        "    for row in menu:\n",
        "      if '(' in row :\n",
        "        row.split('(')[1]#기장밥과 파인애플은 어떻게 빠진걸까?\n",
        "        f_menu = re.findall(r'(\\w+):?', row)#한글과 숫자를 따로 묶기 성공!\n",
        "        print(f_menu)\n",
        "        word = list(filter(str.isalpha, row))#글자(메뉴)만 빼기 성공 but 필요없는 부분\n",
        "        word =''.join(word)\n",
        "        word1 = []\n",
        "        word1.append(word)\n",
        "        numbers = re.findall(r'\\d+', row)#숫자메뉴만 리스트 만들기 성공\n",
        "              \n",
        "#출력\n",
        "        for key, value in allergy.items():#딕셔너리에서 value로 key값 찾기        \n",
        "          for i in f_menu :  #반복: 학생별 알레르기 메뉴 찾아주기\n",
        "            if value == i : \n",
        "              print(key +'는 '+ word+'음식에 알레르기가 있습니다. 섭취에 유의해주세요')\n",
        "            \n",
        "    \n",
        "#문제상황: 가장 마지막 행의 []에서만 확인하고 다른 곳에 올라가지 않음 목표: 모든 요리의 값을 확인할 것.  추가목표: 공지가 끝났을 때, 이상입니다. 맛있는 점심시간 되세요 출력해보기\n",
        "#사람+메뉴1,2,3으로 정리해서 알려줄 수 있을까?\n",
        "\n",
        "#보너스: 학생별 알레르기 정보 확인하기\n",
        "a_input = input('학생들의 알레르기 정보를 확인하시겠습니까?(y/n):')\n",
        "name = input('확인하실 학생의 이름을 입력해주세요:')\n",
        "if a_input == y:\n",
        "    print(name)\n",
        "  if name in allergy :\n",
        "    print(values.allergy)\n",
        "else:\n",
        "  print('즐거운 점심시간 되세요')\n",
        "\n",
        "\n",
        "  "
      ]
    },
    {
      "cell_type": "markdown",
      "source": [],
      "metadata": {
        "id": "3l75BlIFSI_k"
      }
    },
    {
      "cell_type": "code",
      "source": [
        "#이 밑은 모두 연습용 또는 함수, 변수 저장용입니다.\n",
        "string_list = ['돈육갈비찌개','감자베이컨볶음','오이김치']\n",
        "int_list = [1, (2, 3, 4]\n",
        "dictionary = dict(zip(string_list, int_list))\n",
        "print(dictionary)"
      ],
      "metadata": {
        "colab": {
          "base_uri": "https://localhost:8080/"
        },
        "id": "qOGqOOl2SvqE",
        "outputId": "f444c8d6-5da3-43b5-c458-ab0cb0a46092"
      },
      "execution_count": null,
      "outputs": [
        {
          "output_type": "stream",
          "name": "stdout",
          "text": [
            "{'돈육갈비찌개': 1, '감자베이컨볶음': 2.3, '오이김치': 3}\n"
          ]
        }
      ]
    },
    {
      "cell_type": "code",
      "source": [
        "\n",
        "#입력\n",
        "import datetime\n",
        "import csv\n",
        "import requests\n",
        "from datetime import timedelta\n",
        "data = csv.reader(open('menu.csv'))\n",
        "next(data)\n",
        "\n",
        "date = []\n",
        "menu = []\n",
        "t_menu = []\n",
        "allergy = {1:'김상균', 2:'장동선', 3:'인남식', 4:'최준영', 5:'김경일', 6:'오건영', 7:'문은애', 8:'박세익', 9:'오윤석', 10:'정영진', 11:'송길영', 12:'김난도', 13:'김한진', 14:'에드워드', 15:'루시', 16:'레베카', 17:'메인', 18:'도리오', 19:'키위'}\n",
        "\n",
        "#오늘 날짜 취득 함수\n",
        "today = datetime.date.today()\n",
        "today2 = today + timedelta(days=1)\n",
        "today = today.strftime('%Y%m%d') # 하이픈 없애는 작업\n",
        "today2 = today2.strftime('%Y%m%d')\n",
        "\n",
        "print(today)\n",
        "\n",
        "#data의 날짜와 메뉴를 리스트에 넣기\n",
        "for row in data :\n",
        "  if today2 == row[6] :\n",
        "    row[8].split('<br/>')\n",
        "    print(row[8])\n",
        "    menu.append(row[8])\n",
        "    if menu == allergy :\n",
        "    \n",
        "    for t_menu in allergy.items():\n",
        "      print(list(t_menu))\n",
        "\n",
        "      for key, value in allergy.items() :\n",
        "        if key == t_menu:\n",
        "          pirnt(value)\n",
        "\n",
        "          numbers = re.sub(r'[^0-9]', '', str(t_menu))#리스트 t_menu의 숫자만 빼기\n",
        "\n",
        "dt_menu = {string : 0 for string in menu}# t_menu를 딕셔너리로 바꾸기\n",
        "    print(dt_menu)\n",
        "\n",
        "    keys = allergy.keys()\n",
        "      values = allergy.values()\n",
        "      \n",
        "\n",
        "    for row in menu:\n",
        "      t_menu = []       \n",
        "      t_menu.append(row)\n",
        "      if '(' in menu :\n",
        "      print(t_menu)\n",
        "\n",
        "      numbers = re.sub(r'[^0-9]', '', row)#리스트 t_menu의 숫자만 빼기\n",
        "        print(numbers)\n",
        "\n",
        "          for key, value in allergy.items():\n",
        "      if value == 5:\n",
        "        print(key+'는 대두 음식에 알레르기가 있습니다.')\n",
        "      elif value == 9:\n",
        "        print(key+'는 새우 음식에 알레르기가 있습니다.')#반복\n",
        "      else :\n",
        "        print('이상입니다')\n",
        "\n",
        "        a = []#2차원 리스트 만들어보기\n",
        "        for x in range(6) :\n",
        "          line = []\n",
        "          for y in range(2) :\n",
        "            line.append(f_menu)\n",
        "            a.append(line)\n",
        "        print(a)\n",
        "\n",
        "        a_input = input('학생들의 알레르기 정보를 확인하시겠습니까?(y/n):')\n",
        "if a_input == y:\n",
        "  name = input('확인하실 학생의 이름을 입력해주세요:')\n",
        "  print(name)\n",
        "  if name in keys.allergy():\n",
        "    print('name : {}'.format(allergy.get()))"
      ],
      "metadata": {
        "colab": {
          "base_uri": "https://localhost:8080/"
        },
        "id": "qheHH0miJ86X",
        "outputId": "cc08bab3-88ca-4b9d-b4d4-3cc921709a78"
      },
      "execution_count": null,
      "outputs": [
        {
          "output_type": "stream",
          "name": "stdout",
          "text": [
            "20221113\n",
            "기장밥  <br/>돈육갈비김치찌개*  (5.9.10.13.)<br/>감자베이컨볶음*  (5.10.13.)<br/>삼치살엿장구이(오븐-건강식단)  (5.6.13.)<br/>오이김치  (9.13.)<br/>파인애플  \n"
          ]
        }
      ]
    },
    {
      "cell_type": "code",
      "source": [
        "#입력\n",
        "import datetime\n",
        "import csv\n",
        "import requests\n",
        "from datetime import timedelta\n",
        "data = csv.reader(open('menu.csv'))\n",
        "next(data)\n",
        "\n",
        "a = []\n",
        "date = []\n",
        "menu = []\n",
        "t_menu = []\n",
        "\n",
        "#오늘 날짜 취득 함수\n",
        "today = datetime.date.today().strftime('%Y%m%d')\n",
        "\n",
        "today2 = today - timedelta(days=1)('%Y%m%d')\n",
        "\n",
        "  \n",
        "print(today, today2)\n",
        "type(today, today2)\n",
        "\n",
        "#data의 날짜와 메뉴를 리스트에 넣기\n",
        "for row in data : \n",
        "  if today2 == row[6] :\n",
        "    print(row[8])\n",
        "\n",
        "if today == allergy.get(key):\n",
        "  print(value+'는 오늘 급식 대신 간편식을 먹겠습니다.')\n",
        "\n",
        "\n",
        "\n",
        "for key in allergy.keys():\n",
        "  print(key)\n",
        "\n",
        "\n",
        "  \n",
        "student = []\n",
        "for v in allergy.items():\n",
        "  print(v)\n",
        "\n",
        "\n",
        "  \n",
        "values = allergy.values()\n",
        "\n",
        "for key, value in allergy.items() :#질문사항: 어떻게 딕셔너리의 키값과 메뉴를 연결하고, 같을 경우 value값을 출력할 수 있을까?\n",
        "  if key == today:\n",
        "    print(value+'는 오늘 급식 대신 간편식을 먹겠습니다.')\n"
      ],
      "metadata": {
        "id": "AkcMFsX_f9MM"
      },
      "execution_count": null,
      "outputs": []
    },
    {
      "cell_type": "code",
      "source": [
        "  if d_today == row[6] :\n",
        "    menu.append(row[8]) #8열의 숫자만 뽑아야 할까?\n",
        "    print(menu)  \n",
        "\n",
        "    t_menu = list(map(list.__add__, date, menu))\n",
        "  print(t_menu)\n",
        "\n",
        "\n",
        "  \n",
        "  date.append(row[6])\n",
        "  menu.append(row[8])\n",
        "\n",
        "\n",
        "import datetime\n",
        "\n",
        "res = requests.get ('https://search.naver.com/search.naver?sm=top_hty&fbm=1&ie=utf8&query=%ED%95%9C%EA%B5%AD%EC%83%9D%EB%AA%85%EA%B3%BC%ED%95%99%EA%B3%A0%EB%93%B1%ED%95%99%EA%B5%90')\n",
        "source = res.text\n",
        "soup = BeautifulSoup(source,'html.parser')\n",
        "a = soup.select('.menu_info')\n",
        "menu = []\n",
        "dt = datetime.datetime.now()\n",
        "today = \" \"+str(dt.month)+\"월 \"+str(dt.day)+\"일 \"\n",
        "print (today+\" 급식\")\n",
        "for menu in a:\n",
        "    menu_today = menu.text[:menu.text.find('[')]\n",
        "    if menu_today == today :\n",
        "      print (menu.text)\n",
        "  \n"
      ],
      "metadata": {
        "id": "4dEyAqO0dLDg",
        "outputId": "0a856a25-f830-4600-9167-76d46c8a0166",
        "colab": {
          "base_uri": "https://localhost:8080/"
        }
      },
      "execution_count": null,
      "outputs": [
        {
          "output_type": "stream",
          "name": "stdout",
          "text": [
            "2022-11-07\n"
          ]
        }
      ]
    },
    {
      "cell_type": "code",
      "source": [
        "from bs4 import BeautifulSoup\n",
        "import requests\n",
        "import datetime\n",
        "\n",
        "res = requests.get ('https://search.naver.com/search.naver?sm=top_hty&fbm=1&ie=utf8&query=%ED%95%9C%EA%B5%AD%EC%83%9D%EB%AA%85%EA%B3%BC%ED%95%99%EA%B3%A0%EB%93%B1%ED%95%99%EA%B5%90')\n",
        "source = res.text\n",
        "soup = BeautifulSoup(source,'html.parser')\n",
        "a = soup.select('.menu_info')\n",
        "menu = []\n",
        "dt = datetime.datetime.now()\n",
        "today = \" \"+str(dt.month)+\"월 \"+str(dt.day)+\"일 \"\n",
        "print (today+\" 급식\")\n",
        "for menu in a:\n",
        "    menu_today = menu.text[:menu.text.find('[')]\n",
        "    if menu_today == today :\n",
        "      print (menu.text)"
      ],
      "metadata": {
        "id": "2rRBvICzCuoy",
        "outputId": "2ca9c768-7358-461c-af4b-a27375408921",
        "colab": {
          "base_uri": "https://localhost:8080/"
        }
      },
      "execution_count": null,
      "outputs": [
        {
          "output_type": "stream",
          "name": "stdout",
          "text": [
            " 11월 10일  급식\n"
          ]
        }
      ]
    },
    {
      "cell_type": "markdown",
      "source": [
        "allergy = {1:'김상균', 2:'장동선', '메밀':'인남식', '땅콩':'최준영', '대두':'김경일', '밀':'오건영', '고등어':'문은애', '게':'박세익', '새우':'오윤석', '돼지고기':'정영진', '복숭아':'송길영', '토마토':'김난도', '아황산류':'김한진','호두':'에드워드', '닭고기':'루시', '쇠고기':'레베카', '오징어':'메인', '조개류':'도리오', '잣''키위'}"
      ],
      "metadata": {
        "id": "bdjSsnGKHhvP"
      }
    },
    {
      "cell_type": "code",
      "source": [
        "\n",
        "    #리스트 속에 리스트로 나눴다고 가정\n",
        "    #키값을 가진 학생 호출하기\n",
        "    print(allergy[14]+'학생은'+' x'+'를 삼가토록 합니다.') "
      ],
      "metadata": {
        "id": "wFYpkXPMHhhD"
      },
      "execution_count": null,
      "outputs": []
    }
  ]
}